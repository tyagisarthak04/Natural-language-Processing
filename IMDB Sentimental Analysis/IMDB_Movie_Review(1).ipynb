{
  "nbformat": 4,
  "nbformat_minor": 0,
  "metadata": {
    "colab": {
      "name": "IMDB Movie Review.ipynb",
      "provenance": [],
      "collapsed_sections": []
    },
    "kernelspec": {
      "display_name": "Python 3",
      "name": "python3"
    },
    "language_info": {
      "name": "python"
    }
  },
  "cells": [
    {
      "cell_type": "code",
      "metadata": {
        "id": "v4EGub8a95GF"
      },
      "source": [
        "import pandas as pd\n",
        "import numpy as np\n"
      ],
      "execution_count": 1,
      "outputs": []
    },
    {
      "cell_type": "code",
      "metadata": {
        "colab": {
          "base_uri": "https://localhost:8080/",
          "height": 206
        },
        "id": "heNgeOmP-n1b",
        "outputId": "5e0182b3-a3f5-4dbe-8528-2c585c05eb81"
      },
      "source": [
        "data = pd.read_csv(\"/content/drive/MyDrive/IMDB movie review/IMDB Dataset.csv\")\n",
        "data.head()"
      ],
      "execution_count": 2,
      "outputs": [
        {
          "output_type": "execute_result",
          "data": {
            "text/html": [
              "<div>\n",
              "<style scoped>\n",
              "    .dataframe tbody tr th:only-of-type {\n",
              "        vertical-align: middle;\n",
              "    }\n",
              "\n",
              "    .dataframe tbody tr th {\n",
              "        vertical-align: top;\n",
              "    }\n",
              "\n",
              "    .dataframe thead th {\n",
              "        text-align: right;\n",
              "    }\n",
              "</style>\n",
              "<table border=\"1\" class=\"dataframe\">\n",
              "  <thead>\n",
              "    <tr style=\"text-align: right;\">\n",
              "      <th></th>\n",
              "      <th>review</th>\n",
              "      <th>sentiment</th>\n",
              "    </tr>\n",
              "  </thead>\n",
              "  <tbody>\n",
              "    <tr>\n",
              "      <th>0</th>\n",
              "      <td>One of the other reviewers has mentioned that ...</td>\n",
              "      <td>positive</td>\n",
              "    </tr>\n",
              "    <tr>\n",
              "      <th>1</th>\n",
              "      <td>A wonderful little production. &lt;br /&gt;&lt;br /&gt;The...</td>\n",
              "      <td>positive</td>\n",
              "    </tr>\n",
              "    <tr>\n",
              "      <th>2</th>\n",
              "      <td>I thought this was a wonderful way to spend ti...</td>\n",
              "      <td>positive</td>\n",
              "    </tr>\n",
              "    <tr>\n",
              "      <th>3</th>\n",
              "      <td>Basically there's a family where a little boy ...</td>\n",
              "      <td>negative</td>\n",
              "    </tr>\n",
              "    <tr>\n",
              "      <th>4</th>\n",
              "      <td>Petter Mattei's \"Love in the Time of Money\" is...</td>\n",
              "      <td>positive</td>\n",
              "    </tr>\n",
              "  </tbody>\n",
              "</table>\n",
              "</div>"
            ],
            "text/plain": [
              "                                              review sentiment\n",
              "0  One of the other reviewers has mentioned that ...  positive\n",
              "1  A wonderful little production. <br /><br />The...  positive\n",
              "2  I thought this was a wonderful way to spend ti...  positive\n",
              "3  Basically there's a family where a little boy ...  negative\n",
              "4  Petter Mattei's \"Love in the Time of Money\" is...  positive"
            ]
          },
          "metadata": {
            "tags": []
          },
          "execution_count": 2
        }
      ]
    },
    {
      "cell_type": "code",
      "metadata": {
        "colab": {
          "base_uri": "https://localhost:8080/"
        },
        "id": "b0ArAlMv-z_D",
        "outputId": "510dfeaa-a69e-4d28-c4d4-a44ea9c8708c"
      },
      "source": [
        "data['sentiment'].value_counts()"
      ],
      "execution_count": 3,
      "outputs": [
        {
          "output_type": "execute_result",
          "data": {
            "text/plain": [
              "negative    25000\n",
              "positive    25000\n",
              "Name: sentiment, dtype: int64"
            ]
          },
          "metadata": {
            "tags": []
          },
          "execution_count": 3
        }
      ]
    },
    {
      "cell_type": "code",
      "metadata": {
        "colab": {
          "base_uri": "https://localhost:8080/"
        },
        "id": "74A7Q5gX-__d",
        "outputId": "40d01312-0b4f-455f-fb9c-681c676ed48c"
      },
      "source": [
        "data.dtypes"
      ],
      "execution_count": 4,
      "outputs": [
        {
          "output_type": "execute_result",
          "data": {
            "text/plain": [
              "review       object\n",
              "sentiment    object\n",
              "dtype: object"
            ]
          },
          "metadata": {
            "tags": []
          },
          "execution_count": 4
        }
      ]
    },
    {
      "cell_type": "code",
      "metadata": {
        "colab": {
          "base_uri": "https://localhost:8080/"
        },
        "id": "0cWpCj5l_dXW",
        "outputId": "472e14e1-6867-4415-bd6e-90a23a8560c7"
      },
      "source": [
        "import nltk\n",
        "nltk.download(\"stopwords\")\n",
        "nltk.download('wordnet')"
      ],
      "execution_count": 5,
      "outputs": [
        {
          "output_type": "stream",
          "text": [
            "[nltk_data] Downloading package stopwords to /root/nltk_data...\n",
            "[nltk_data]   Unzipping corpora/stopwords.zip.\n",
            "[nltk_data] Downloading package wordnet to /root/nltk_data...\n",
            "[nltk_data]   Unzipping corpora/wordnet.zip.\n"
          ],
          "name": "stdout"
        },
        {
          "output_type": "execute_result",
          "data": {
            "text/plain": [
              "True"
            ]
          },
          "metadata": {
            "tags": []
          },
          "execution_count": 5
        }
      ]
    },
    {
      "cell_type": "code",
      "metadata": {
        "id": "RhSZmqQtAThw"
      },
      "source": [
        "from nltk.corpus import stopwords\n",
        "from nltk.stem import WordNetLemmatizer\n",
        "lm = WordNetLemmatizer()\n"
      ],
      "execution_count": 6,
      "outputs": []
    },
    {
      "cell_type": "code",
      "metadata": {
        "id": "nK4hMWQVA-kr"
      },
      "source": [
        "data['review'] = data['review'].str.lower()"
      ],
      "execution_count": 7,
      "outputs": []
    },
    {
      "cell_type": "code",
      "metadata": {
        "id": "XIcwYTC8BSfr"
      },
      "source": [
        "#data['review'].replace(\"[^a-zA-Z]\",\" \",regex=True,inplace=True)"
      ],
      "execution_count": 8,
      "outputs": []
    },
    {
      "cell_type": "code",
      "metadata": {
        "id": "g4x1mcftBwCD"
      },
      "source": [
        "data['review'].replace('https?://\\S+|www\\.\\S+',\" \",regex=True,inplace=True)\n",
        "data['review'].replace('<.*?>',\" \",regex=True,inplace=True)\n",
        "data['review'].replace('@\\w+',\" \",regex=True,inplace=True)\n",
        "data['review'].replace('#\\w+',\" \",regex=True,inplace=True)\n",
        "data['review'].replace(\"[^\\w\\s\\d]\",\" \",regex=True,inplace=True)\n",
        "data['review'].replace(r'( +)',\" \",regex=True,inplace=True)\n",
        "data['review'].replace(\"[^a-zA-Z]\",\" \",regex=True,inplace=True)"
      ],
      "execution_count": 9,
      "outputs": []
    },
    {
      "cell_type": "code",
      "metadata": {
        "id": "wUaMlonaLg16"
      },
      "source": [
        "#train = data['review'][:40000]\n",
        "#test = data['review'][40000:]"
      ],
      "execution_count": 10,
      "outputs": []
    },
    {
      "cell_type": "code",
      "metadata": {
        "id": "uZPKKZsCL55D"
      },
      "source": [
        "#len(test)"
      ],
      "execution_count": 11,
      "outputs": []
    },
    {
      "cell_type": "code",
      "metadata": {
        "id": "w0q7jBBkB2O9"
      },
      "source": [
        "import tensorflow as tf\n",
        "from tensorflow.keras.models import Sequential\n",
        "from tensorflow.keras.layers import Embedding,Dense,LSTM\n",
        "from tensorflow.keras.preprocessing.text import one_hot\n",
        "from tensorflow.keras.preprocessing.sequence import pad_sequences"
      ],
      "execution_count": 12,
      "outputs": []
    },
    {
      "cell_type": "code",
      "metadata": {
        "id": "vids0z5sEmoy"
      },
      "source": [
        "data_lem = []\n",
        "for i in range(0,len(data.index)):\n",
        "  temp = data['review'][i].split()\n",
        "  temp = [word.lower() for word in temp]\n",
        "  temp = [word for word in temp if word not in stopwords.words(\"english\")]\n",
        "  temp = \" \".join(temp)\n",
        "  data_lem.append(temp)"
      ],
      "execution_count": 13,
      "outputs": []
    },
    {
      "cell_type": "code",
      "metadata": {
        "id": "E1V4caDJgS4o"
      },
      "source": [
        "voc_size = 90000"
      ],
      "execution_count": 14,
      "outputs": []
    },
    {
      "cell_type": "code",
      "metadata": {
        "id": "UyHULQQutDtD"
      },
      "source": [
        "from keras.preprocessing.text import Tokenizer\n",
        "t = Tokenizer(num_words=voc_size,oov_token='<OOV>')\n",
        "t.fit_on_texts(data_lem)\n",
        "word_index=t.word_index\n",
        "total_vocab=len(word_index)"
      ],
      "execution_count": 15,
      "outputs": []
    },
    {
      "cell_type": "code",
      "metadata": {
        "id": "zPrizjFwFy-N",
        "colab": {
          "base_uri": "https://localhost:8080/"
        },
        "outputId": "0d004be9-44e2-4429-bef5-5ad5b56d6447"
      },
      "source": [
        "#onehot_rep = [one_hot(word,voc_size) for word in data_lem]\n",
        "#len(onehot_rep[0])\n",
        "total_vocab"
      ],
      "execution_count": 16,
      "outputs": [
        {
          "output_type": "execute_result",
          "data": {
            "text/plain": [
              "99126"
            ]
          },
          "metadata": {
            "tags": []
          },
          "execution_count": 16
        }
      ]
    },
    {
      "cell_type": "code",
      "metadata": {
        "id": "0Suq4KY-uVPO"
      },
      "source": [
        "train = t.texts_to_sequences(data_lem)"
      ],
      "execution_count": 17,
      "outputs": []
    },
    {
      "cell_type": "code",
      "metadata": {
        "id": "7w2L_RQ5TzsQ"
      },
      "source": [
        "set_length = 700\n",
        "embedded_docs_train = pad_sequences(train,padding='pre',maxlen =set_length)"
      ],
      "execution_count": 18,
      "outputs": []
    },
    {
      "cell_type": "code",
      "metadata": {
        "id": "g6Eqbx6mUZHF"
      },
      "source": [
        "from tensorflow.keras.layers import Flatten,Dropout\n",
        "from tensorflow.keras.layers import BatchNormalization\n",
        "from keras.layers import Bidirectional"
      ],
      "execution_count": 19,
      "outputs": []
    },
    {
      "cell_type": "code",
      "metadata": {
        "id": "U0h7SQBuhRHI"
      },
      "source": [
        "import keras\n",
        "opt = keras.optimizers.Adam(learning_rate=0.01)"
      ],
      "execution_count": 21,
      "outputs": []
    },
    {
      "cell_type": "markdown",
      "metadata": {
        "id": "HkB60bdW0ZX0"
      },
      "source": [
        ""
      ]
    },
    {
      "cell_type": "code",
      "metadata": {
        "id": "Zap4bg6YUbZ1"
      },
      "source": [
        "import keras\n",
        "vector_feature = 200\n",
        "model = Sequential()\n",
        "model.add(Embedding(voc_size,vector_feature,input_length=set_length))\n",
        "Dropout(0.20)\n",
        "#model.add(Dense(128, activation='relu'))\n",
        "model.add(LSTM(64,return_sequences=True))\n",
        "#Dropout(0.25)\n",
        "#model.add(LSTM(32,return_sequences=True))\n",
        "#Dropout(0.25)\n",
        "#model.add(BatchNormalization())\n",
        "model.add(Flatten())\n",
        "#model.add(Dense(64, activation='relu'))\n",
        "#Dropout(0.25)\n",
        "model.add(Dense(1,activation='sigmoid'))\n",
        "model.compile(loss='binary_crossentropy',optimizer='adam',metrics=['accuracy'])\n",
        "#model.compile(optimizer='rmsprop', loss='binary_crossentropy', metrics=['categorical_accuracy'])"
      ],
      "execution_count": 31,
      "outputs": []
    },
    {
      "cell_type": "code",
      "metadata": {
        "id": "XyuoqV4kUhy2",
        "colab": {
          "base_uri": "https://localhost:8080/"
        },
        "outputId": "714312e6-350e-4460-c03f-703179d80921"
      },
      "source": [
        "model.summary()"
      ],
      "execution_count": 32,
      "outputs": [
        {
          "output_type": "stream",
          "text": [
            "Model: \"sequential_1\"\n",
            "_________________________________________________________________\n",
            "Layer (type)                 Output Shape              Param #   \n",
            "=================================================================\n",
            "embedding_1 (Embedding)      (None, 700, 200)          18000000  \n",
            "_________________________________________________________________\n",
            "lstm_1 (LSTM)                (None, 700, 64)           67840     \n",
            "_________________________________________________________________\n",
            "flatten_1 (Flatten)          (None, 44800)             0         \n",
            "_________________________________________________________________\n",
            "dense_2 (Dense)              (None, 1)                 44801     \n",
            "=================================================================\n",
            "Total params: 18,112,641\n",
            "Trainable params: 18,112,641\n",
            "Non-trainable params: 0\n",
            "_________________________________________________________________\n"
          ],
          "name": "stdout"
        }
      ]
    },
    {
      "cell_type": "code",
      "metadata": {
        "id": "-Ry2DMSXUlcb"
      },
      "source": [
        "from sklearn import preprocessing\n",
        "label_encoder = preprocessing.LabelEncoder()\n",
        "#data['sentiment'] = label_encoder.fit_transform(data['sentiment'])\n",
        "labels = pd.get_dummies(data['sentiment'],drop_first=True)\n"
      ],
      "execution_count": 33,
      "outputs": []
    },
    {
      "cell_type": "code",
      "metadata": {
        "id": "gNL65W9AvULw"
      },
      "source": [
        "labels['positive'] = labels['positive'].astype(int)"
      ],
      "execution_count": 34,
      "outputs": []
    },
    {
      "cell_type": "code",
      "metadata": {
        "id": "hCZzOSIqNBYL"
      },
      "source": [
        "x_final = embedded_docs_train\n",
        "y_final = labels['positive']"
      ],
      "execution_count": 35,
      "outputs": []
    },
    {
      "cell_type": "code",
      "metadata": {
        "id": "yZVOImfFUull"
      },
      "source": [
        "from sklearn.model_selection import train_test_split\n",
        "X_train, X_test, y_train, y_test = train_test_split(x_final, y_final, test_size=0.33)"
      ],
      "execution_count": 36,
      "outputs": []
    },
    {
      "cell_type": "code",
      "metadata": {
        "colab": {
          "base_uri": "https://localhost:8080/"
        },
        "id": "gtjtl2BAR-gv",
        "outputId": "668d9f92-6f1c-4c99-8a56-24658ec85f26"
      },
      "source": [
        "y_test.shape"
      ],
      "execution_count": 37,
      "outputs": [
        {
          "output_type": "execute_result",
          "data": {
            "text/plain": [
              "(16500,)"
            ]
          },
          "metadata": {
            "tags": []
          },
          "execution_count": 37
        }
      ]
    },
    {
      "cell_type": "code",
      "metadata": {
        "id": "lOJ1pCoxVoj-",
        "colab": {
          "base_uri": "https://localhost:8080/"
        },
        "outputId": "f0e20018-1a07-4224-a69c-a4b7de69e027"
      },
      "source": [
        "history = model.fit(X_train,y_train,validation_data=(X_test,y_test),epochs=4,batch_size=64,verbose=1)"
      ],
      "execution_count": 38,
      "outputs": [
        {
          "output_type": "stream",
          "text": [
            "Epoch 1/4\n",
            "524/524 [==============================] - 701s 1s/step - loss: 0.3206 - accuracy: 0.8559 - val_loss: 0.2552 - val_accuracy: 0.8998\n",
            "Epoch 2/4\n",
            "524/524 [==============================] - 693s 1s/step - loss: 0.1100 - accuracy: 0.9596 - val_loss: 0.3136 - val_accuracy: 0.8897\n",
            "Epoch 3/4\n",
            "524/524 [==============================] - 696s 1s/step - loss: 0.0263 - accuracy: 0.9913 - val_loss: 0.5095 - val_accuracy: 0.8848\n",
            "Epoch 4/4\n",
            "524/524 [==============================] - 697s 1s/step - loss: 0.0096 - accuracy: 0.9972 - val_loss: 0.6708 - val_accuracy: 0.8809\n"
          ],
          "name": "stdout"
        }
      ]
    },
    {
      "cell_type": "code",
      "metadata": {
        "id": "f5oWOkoDYTKe",
        "colab": {
          "base_uri": "https://localhost:8080/",
          "height": 268
        },
        "outputId": "43fede6e-6129-468d-cabf-7ce0d6e89651"
      },
      "source": [
        "import matplotlib.pyplot as plt\n",
        "plt.plot(history.history['loss'],label='train loss')\n",
        "plt.plot(history.history['val_loss'],label='val loss')\n",
        "plt.legend()\n",
        "plt.show()"
      ],
      "execution_count": 39,
      "outputs": [
        {
          "output_type": "display_data",
          "data": {
            "image/png": "[encoded data removed]",
            "text/plain": [
              "<Figure size 432x288 with 1 Axes>"
            ]
          },
          "metadata": {
            "tags": [],
            "needs_background": "light"
          }
        }
      ]
    },
    {
      "cell_type": "code",
      "metadata": {
        "id": "r9jKnDB0BvzR",
        "colab": {
          "base_uri": "https://localhost:8080/",
          "height": 265
        },
        "outputId": "f2267501-9b53-448a-df70-0a097a8c0b5d"
      },
      "source": [
        "\n",
        "import matplotlib.pyplot as plt\n",
        "plt.plot(history.history['accuracy'],label='train accuracy')\n",
        "plt.plot(history.history['val_accuracy'],label='val accuracy')\n",
        "plt.legend()\n",
        "plt.show()"
      ],
      "execution_count": 40,
      "outputs": [
        {
          "output_type": "display_data",
          "data": {
            "image/png": "[encoded data removed]",
            "text/plain": [
              "<Figure size 432x288 with 1 Axes>"
            ]
          },
          "metadata": {
            "tags": [],
            "needs_background": "light"
          }
        }
      ]
    },
    {
      "cell_type": "code",
      "metadata": {
        "id": "hTrrggyNB58D",
        "colab": {
          "base_uri": "https://localhost:8080/"
        },
        "outputId": "711b70ab-a41e-44a6-f06d-a21dd2cca4a4"
      },
      "source": [
        "predict = model.predict(X_test)\n",
        "len(predict)"
      ],
      "execution_count": 48,
      "outputs": [
        {
          "output_type": "execute_result",
          "data": {
            "text/plain": [
              "16500"
            ]
          },
          "metadata": {
            "tags": []
          },
          "execution_count": 48
        }
      ]
    },
    {
      "cell_type": "code",
      "metadata": {
        "colab": {
          "base_uri": "https://localhost:8080/"
        },
        "id": "R5Q_qw-KNmIp",
        "outputId": "d077b09c-6815-4e89-a33f-cb926f515b3b"
      },
      "source": [
        "predict[0]"
      ],
      "execution_count": 54,
      "outputs": [
        {
          "output_type": "execute_result",
          "data": {
            "text/plain": [
              "array([0.7437487], dtype=float32)"
            ]
          },
          "metadata": {
            "tags": []
          },
          "execution_count": 54
        }
      ]
    },
    {
      "cell_type": "code",
      "metadata": {
        "id": "wXzvsbOoMtXU"
      },
      "source": [
        "sent = []\n",
        "for i in range(len(predict)):\n",
        "    if predict[i] >= 0.5:\n",
        "      sent.append(1)\n",
        "    else:\n",
        "      sent.append(0)\n"
      ],
      "execution_count": 55,
      "outputs": []
    },
    {
      "cell_type": "code",
      "metadata": {
        "colab": {
          "base_uri": "https://localhost:8080/"
        },
        "id": "1WY805lANLdu",
        "outputId": "74a9b326-4917-46e1-831d-1c45bdc3eeb3"
      },
      "source": [
        "len(sent)"
      ],
      "execution_count": 57,
      "outputs": [
        {
          "output_type": "execute_result",
          "data": {
            "text/plain": [
              "16500"
            ]
          },
          "metadata": {
            "tags": []
          },
          "execution_count": 57
        }
      ]
    },
    {
      "cell_type": "code",
      "metadata": {
        "colab": {
          "base_uri": "https://localhost:8080/"
        },
        "id": "nksj29E3OYGD",
        "outputId": "815f5e1d-e03a-4b5a-fc59-3535e185f194"
      },
      "source": [
        "y_test"
      ],
      "execution_count": 64,
      "outputs": [
        {
          "output_type": "execute_result",
          "data": {
            "text/plain": [
              "19423    1\n",
              "43483    1\n",
              "21318    0\n",
              "46916    1\n",
              "30764    0\n",
              "        ..\n",
              "23547    1\n",
              "6901     0\n",
              "28809    0\n",
              "33737    1\n",
              "48477    0\n",
              "Name: positive, Length: 16500, dtype: int64"
            ]
          },
          "metadata": {
            "tags": []
          },
          "execution_count": 64
        }
      ]
    },
    {
      "cell_type": "code",
      "metadata": {
        "id": "AtwW06yRCqSf"
      },
      "source": [
        "result = pd.DataFrame(list(zip(sent,np.array(y_test))),columns=['predict','actual'])"
      ],
      "execution_count": 71,
      "outputs": []
    },
    {
      "cell_type": "code",
      "metadata": {
        "id": "VsJe5mfBFYpG",
        "colab": {
          "base_uri": "https://localhost:8080/",
          "height": 424
        },
        "outputId": "87043bae-6b0d-4674-a02a-c74dd2fd8c0c"
      },
      "source": [
        "result"
      ],
      "execution_count": 72,
      "outputs": [
        {
          "output_type": "execute_result",
          "data": {
            "text/html": [
              "<div>\n",
              "<style scoped>\n",
              "    .dataframe tbody tr th:only-of-type {\n",
              "        vertical-align: middle;\n",
              "    }\n",
              "\n",
              "    .dataframe tbody tr th {\n",
              "        vertical-align: top;\n",
              "    }\n",
              "\n",
              "    .dataframe thead th {\n",
              "        text-align: right;\n",
              "    }\n",
              "</style>\n",
              "<table border=\"1\" class=\"dataframe\">\n",
              "  <thead>\n",
              "    <tr style=\"text-align: right;\">\n",
              "      <th></th>\n",
              "      <th>predict</th>\n",
              "      <th>actual</th>\n",
              "    </tr>\n",
              "  </thead>\n",
              "  <tbody>\n",
              "    <tr>\n",
              "      <th>0</th>\n",
              "      <td>1</td>\n",
              "      <td>1</td>\n",
              "    </tr>\n",
              "    <tr>\n",
              "      <th>1</th>\n",
              "      <td>1</td>\n",
              "      <td>1</td>\n",
              "    </tr>\n",
              "    <tr>\n",
              "      <th>2</th>\n",
              "      <td>0</td>\n",
              "      <td>0</td>\n",
              "    </tr>\n",
              "    <tr>\n",
              "      <th>3</th>\n",
              "      <td>1</td>\n",
              "      <td>1</td>\n",
              "    </tr>\n",
              "    <tr>\n",
              "      <th>4</th>\n",
              "      <td>0</td>\n",
              "      <td>0</td>\n",
              "    </tr>\n",
              "    <tr>\n",
              "      <th>...</th>\n",
              "      <td>...</td>\n",
              "      <td>...</td>\n",
              "    </tr>\n",
              "    <tr>\n",
              "      <th>16495</th>\n",
              "      <td>1</td>\n",
              "      <td>1</td>\n",
              "    </tr>\n",
              "    <tr>\n",
              "      <th>16496</th>\n",
              "      <td>0</td>\n",
              "      <td>0</td>\n",
              "    </tr>\n",
              "    <tr>\n",
              "      <th>16497</th>\n",
              "      <td>1</td>\n",
              "      <td>0</td>\n",
              "    </tr>\n",
              "    <tr>\n",
              "      <th>16498</th>\n",
              "      <td>1</td>\n",
              "      <td>1</td>\n",
              "    </tr>\n",
              "    <tr>\n",
              "      <th>16499</th>\n",
              "      <td>0</td>\n",
              "      <td>0</td>\n",
              "    </tr>\n",
              "  </tbody>\n",
              "</table>\n",
              "<p>16500 rows × 2 columns</p>\n",
              "</div>"
            ],
            "text/plain": [
              "       predict  actual\n",
              "0            1       1\n",
              "1            1       1\n",
              "2            0       0\n",
              "3            1       1\n",
              "4            0       0\n",
              "...        ...     ...\n",
              "16495        1       1\n",
              "16496        0       0\n",
              "16497        1       0\n",
              "16498        1       1\n",
              "16499        0       0\n",
              "\n",
              "[16500 rows x 2 columns]"
            ]
          },
          "metadata": {
            "tags": []
          },
          "execution_count": 72
        }
      ]
    },
    {
      "cell_type": "code",
      "metadata": {
        "colab": {
          "base_uri": "https://localhost:8080/"
        },
        "id": "7wpaOp0-PS9w",
        "outputId": "53467651-4207-4438-f383-4268ff188450"
      },
      "source": [
        "from sklearn.metrics import confusion_matrix\n",
        "confusion_matrix(np.array(y_test),sent)"
      ],
      "execution_count": 74,
      "outputs": [
        {
          "output_type": "execute_result",
          "data": {
            "text/plain": [
              "array([[7078, 1097],\n",
              "       [ 868, 7457]])"
            ]
          },
          "metadata": {
            "tags": []
          },
          "execution_count": 74
        }
      ]
    },
    {
      "cell_type": "code",
      "metadata": {
        "colab": {
          "base_uri": "https://localhost:8080/"
        },
        "id": "WfGAcqlEPwr4",
        "outputId": "a3cc55ed-5eec-45f1-8c11-cdc539f764d2"
      },
      "source": [
        "from sklearn.metrics import accuracy_score\n",
        "accuracy_score(np.array(y_test),sent)"
      ],
      "execution_count": 75,
      "outputs": [
        {
          "output_type": "execute_result",
          "data": {
            "text/plain": [
              "0.8809090909090909"
            ]
          },
          "metadata": {
            "tags": []
          },
          "execution_count": 75
        }
      ]
    },
    {
      "cell_type": "code",
      "metadata": {
        "id": "JxJXpr4gQEvp"
      },
      "source": [
        ""
      ],
      "execution_count": null,
      "outputs": []
    }
  ]
}